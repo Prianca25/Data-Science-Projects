{
 "cells": [
  {
   "cell_type": "markdown",
   "metadata": {},
   "source": [
    "# Experiment Analysis -  email Campaign"
   ]
  },
  {
   "cell_type": "markdown",
   "metadata": {},
   "source": [
    "## Dataset Information"
   ]
  },
  {
   "cell_type": "markdown",
   "metadata": {},
   "source": [
    "The data set contains one row for each customer that was part of the experiment during the March, 2021, with the following columns:\n",
    "\n",
    "1. id - customer ID\n",
    "2. group - the group the customer was assigned\n",
    "    - 0 = control group (did not receive an email) \n",
    "    - 1 = test group (received an email)\n",
    "3. make_decision - indicator for the customer make the decision \n",
    "    - 0 = no, the customer did not make a decision\n",
    "    - 1 = yes, the customer did shop for homes\n",
    "4. market - region for which the customer has received a budget\n",
    "    - see the footer of our home page for the list of markets we operate within\n",
    "    - only three markets are included in the data: atlanta, dallas, and phoenix\n",
    "5. score - the customer’s credit score, ranging from 0 (low risk) to 1 (high risk) \n",
    "6. date - the date on which the email was sent"
   ]
  },
  {
   "cell_type": "markdown",
   "metadata": {},
   "source": [
    "## Loading Python Packages"
   ]
  },
  {
   "cell_type": "code",
   "execution_count": 1,
   "metadata": {},
   "outputs": [],
   "source": [
    "import pandas as pd\n",
    "import numpy as np\n",
    "import matplotlib.pyplot as plt\n",
    "import seaborn as sns\n",
    "import scipy.stats as stats"
   ]
  },
  {
   "cell_type": "markdown",
   "metadata": {},
   "source": [
    "## Loading Data"
   ]
  },
  {
   "cell_type": "code",
   "execution_count": 2,
   "metadata": {},
   "outputs": [],
   "source": [
    "customers = pd.read_csv('campaign_results.csv')"
   ]
  },
  {
   "cell_type": "markdown",
   "metadata": {},
   "source": [
    "## Data Exploration"
   ]
  },
  {
   "cell_type": "code",
   "execution_count": 3,
   "metadata": {},
   "outputs": [
    {
     "name": "stdout",
     "output_type": "stream",
     "text": [
      "<class 'pandas.core.frame.DataFrame'>\n",
      "RangeIndex: 100000 entries, 0 to 99999\n",
      "Data columns (total 6 columns):\n",
      " #   Column         Non-Null Count   Dtype  \n",
      "---  ------         --------------   -----  \n",
      " 0   id             100000 non-null  int64  \n",
      " 1   group          100000 non-null  int64  \n",
      " 2   make_decision  100000 non-null  int64  \n",
      " 3   market         100000 non-null  object \n",
      " 4   score          100000 non-null  float64\n",
      " 5   date           100000 non-null  object \n",
      "dtypes: float64(1), int64(3), object(2)\n",
      "memory usage: 4.6+ MB\n"
     ]
    }
   ],
   "source": [
    "customers.info()"
   ]
  },
  {
   "cell_type": "markdown",
   "metadata": {},
   "source": [
    "***No missing values**"
   ]
  },
  {
   "cell_type": "code",
   "execution_count": 4,
   "metadata": {},
   "outputs": [
    {
     "data": {
      "text/html": [
       "<div>\n",
       "<style scoped>\n",
       "    .dataframe tbody tr th:only-of-type {\n",
       "        vertical-align: middle;\n",
       "    }\n",
       "\n",
       "    .dataframe tbody tr th {\n",
       "        vertical-align: top;\n",
       "    }\n",
       "\n",
       "    .dataframe thead th {\n",
       "        text-align: right;\n",
       "    }\n",
       "</style>\n",
       "<table border=\"1\" class=\"dataframe\">\n",
       "  <thead>\n",
       "    <tr style=\"text-align: right;\">\n",
       "      <th></th>\n",
       "      <th>id</th>\n",
       "      <th>group</th>\n",
       "      <th>make_decision</th>\n",
       "      <th>market</th>\n",
       "      <th>score</th>\n",
       "      <th>date</th>\n",
       "    </tr>\n",
       "  </thead>\n",
       "  <tbody>\n",
       "    <tr>\n",
       "      <th>0</th>\n",
       "      <td>1</td>\n",
       "      <td>0</td>\n",
       "      <td>1</td>\n",
       "      <td>Los Angeles</td>\n",
       "      <td>0.45</td>\n",
       "      <td>3/17/21</td>\n",
       "    </tr>\n",
       "    <tr>\n",
       "      <th>1</th>\n",
       "      <td>2</td>\n",
       "      <td>1</td>\n",
       "      <td>0</td>\n",
       "      <td>Los Angeles</td>\n",
       "      <td>0.55</td>\n",
       "      <td>3/10/21</td>\n",
       "    </tr>\n",
       "    <tr>\n",
       "      <th>2</th>\n",
       "      <td>3</td>\n",
       "      <td>1</td>\n",
       "      <td>1</td>\n",
       "      <td>Los Angeles</td>\n",
       "      <td>0.55</td>\n",
       "      <td>3/4/21</td>\n",
       "    </tr>\n",
       "    <tr>\n",
       "      <th>3</th>\n",
       "      <td>4</td>\n",
       "      <td>1</td>\n",
       "      <td>1</td>\n",
       "      <td>San Francisco</td>\n",
       "      <td>0.20</td>\n",
       "      <td>3/3/21</td>\n",
       "    </tr>\n",
       "    <tr>\n",
       "      <th>4</th>\n",
       "      <td>5</td>\n",
       "      <td>1</td>\n",
       "      <td>1</td>\n",
       "      <td>San Francisco</td>\n",
       "      <td>0.15</td>\n",
       "      <td>3/1/21</td>\n",
       "    </tr>\n",
       "  </tbody>\n",
       "</table>\n",
       "</div>"
      ],
      "text/plain": [
       "   id  group  make_decision         market  score     date\n",
       "0   1      0              1    Los Angeles   0.45  3/17/21\n",
       "1   2      1              0    Los Angeles   0.55  3/10/21\n",
       "2   3      1              1    Los Angeles   0.55   3/4/21\n",
       "3   4      1              1  San Francisco   0.20   3/3/21\n",
       "4   5      1              1  San Francisco   0.15   3/1/21"
      ]
     },
     "execution_count": 4,
     "metadata": {},
     "output_type": "execute_result"
    }
   ],
   "source": [
    "customers.head()"
   ]
  },
  {
   "cell_type": "code",
   "execution_count": 5,
   "metadata": {},
   "outputs": [
    {
     "data": {
      "text/html": [
       "<div>\n",
       "<style scoped>\n",
       "    .dataframe tbody tr th:only-of-type {\n",
       "        vertical-align: middle;\n",
       "    }\n",
       "\n",
       "    .dataframe tbody tr th {\n",
       "        vertical-align: top;\n",
       "    }\n",
       "\n",
       "    .dataframe thead th {\n",
       "        text-align: right;\n",
       "    }\n",
       "</style>\n",
       "<table border=\"1\" class=\"dataframe\">\n",
       "  <thead>\n",
       "    <tr style=\"text-align: right;\">\n",
       "      <th></th>\n",
       "      <th>id</th>\n",
       "      <th>group</th>\n",
       "      <th>make_decision</th>\n",
       "      <th>score</th>\n",
       "    </tr>\n",
       "  </thead>\n",
       "  <tbody>\n",
       "    <tr>\n",
       "      <th>count</th>\n",
       "      <td>100000.000000</td>\n",
       "      <td>100000.000000</td>\n",
       "      <td>100000.000000</td>\n",
       "      <td>100000.000000</td>\n",
       "    </tr>\n",
       "    <tr>\n",
       "      <th>mean</th>\n",
       "      <td>50000.501100</td>\n",
       "      <td>0.500140</td>\n",
       "      <td>0.614840</td>\n",
       "      <td>0.583243</td>\n",
       "    </tr>\n",
       "    <tr>\n",
       "      <th>std</th>\n",
       "      <td>28867.656754</td>\n",
       "      <td>0.500002</td>\n",
       "      <td>0.486636</td>\n",
       "      <td>0.260430</td>\n",
       "    </tr>\n",
       "    <tr>\n",
       "      <th>min</th>\n",
       "      <td>1.000000</td>\n",
       "      <td>0.000000</td>\n",
       "      <td>0.000000</td>\n",
       "      <td>0.050000</td>\n",
       "    </tr>\n",
       "    <tr>\n",
       "      <th>25%</th>\n",
       "      <td>25000.750000</td>\n",
       "      <td>0.000000</td>\n",
       "      <td>0.000000</td>\n",
       "      <td>0.400000</td>\n",
       "    </tr>\n",
       "    <tr>\n",
       "      <th>50%</th>\n",
       "      <td>50000.500000</td>\n",
       "      <td>1.000000</td>\n",
       "      <td>1.000000</td>\n",
       "      <td>0.600000</td>\n",
       "    </tr>\n",
       "    <tr>\n",
       "      <th>75%</th>\n",
       "      <td>75000.250000</td>\n",
       "      <td>1.000000</td>\n",
       "      <td>1.000000</td>\n",
       "      <td>0.800000</td>\n",
       "    </tr>\n",
       "    <tr>\n",
       "      <th>max</th>\n",
       "      <td>100000.000000</td>\n",
       "      <td>1.000000</td>\n",
       "      <td>1.000000</td>\n",
       "      <td>0.950000</td>\n",
       "    </tr>\n",
       "  </tbody>\n",
       "</table>\n",
       "</div>"
      ],
      "text/plain": [
       "                  id          group  make_decision          score\n",
       "count  100000.000000  100000.000000  100000.000000  100000.000000\n",
       "mean    50000.501100       0.500140       0.614840       0.583243\n",
       "std     28867.656754       0.500002       0.486636       0.260430\n",
       "min         1.000000       0.000000       0.000000       0.050000\n",
       "25%     25000.750000       0.000000       0.000000       0.400000\n",
       "50%     50000.500000       1.000000       1.000000       0.600000\n",
       "75%     75000.250000       1.000000       1.000000       0.800000\n",
       "max    100000.000000       1.000000       1.000000       0.950000"
      ]
     },
     "execution_count": 5,
     "metadata": {},
     "output_type": "execute_result"
    }
   ],
   "source": [
    "customers.describe()"
   ]
  },
  {
   "cell_type": "code",
   "execution_count": 6,
   "metadata": {},
   "outputs": [
    {
     "name": "stdout",
     "output_type": "stream",
     "text": [
      "Markets:\n",
      "['Los Angeles' 'San Francisco' 'Sacramento'] \n",
      "\n",
      "Date:\n",
      "2021-03-01 00:00:00\n",
      "2021-03-30 00:00:00\n"
     ]
    }
   ],
   "source": [
    "# Categorical Data\n",
    "\n",
    "print('Markets:')\n",
    "print(customers['market'].unique(),'\\n')\n",
    "\n",
    "\n",
    "customers['new_date_column'] = pd.to_datetime(customers['date'])\n",
    "\n",
    "print('Date:')\n",
    "print(customers['new_date_column'].min())\n",
    "print(customers['new_date_column'].max())\n"
   ]
  },
  {
   "cell_type": "code",
   "execution_count": 7,
   "metadata": {},
   "outputs": [
    {
     "name": "stdout",
     "output_type": "stream",
     "text": [
      "Total of customers: 100000\n",
      "Number of customers who received an email: 50014\n",
      "Number of customers who did not receive an email: 49986\n",
      "Percentage of customers who received an email: 50.014%\n",
      "Percentage of customers who not to receive an email: 49.986%\n"
     ]
    }
   ],
   "source": [
    "# Information\n",
    "\n",
    "print(\"Total of customers: {}\".format(customers['id'].count()))\n",
    "print(\"Number of customers who received an email: {}\".format(customers[customers['group']==1]['group'].count()))\n",
    "print(\"Number of customers who did not receive an email: {}\".format(customers[customers['group']==0]['group'].count()))\n",
    "\n",
    "print(\"Percentage of customers who received an email: {}%\".\n",
    "      format((customers[customers['group']==1]['group'].count()*100)/customers['group'].count()))\n",
    "print(\"Percentage of customers who not to receive an email: {}%\".\n",
    "      format((customers[customers['group']==0]['group'].count()*100)/customers['group'].count()))"
   ]
  },
  {
   "cell_type": "code",
   "execution_count": 8,
   "metadata": {},
   "outputs": [
    {
     "name": "stdout",
     "output_type": "stream",
     "text": [
      "Number of customers per market\n"
     ]
    },
    {
     "data": {
      "text/html": [
       "<style  type=\"text/css\" >\n",
       "</style><table id=\"T_6c18c1a2_1bd6_11ec_bf6e_acde48001122\" ><thead>    <tr>        <th class=\"blank level0\" ></th>        <th class=\"col_heading level0 col0\" >count</th>    </tr>    <tr>        <th class=\"index_name level0\" >market</th>        <th class=\"blank\" ></th>    </tr></thead><tbody>\n",
       "                <tr>\n",
       "                        <th id=\"T_6c18c1a2_1bd6_11ec_bf6e_acde48001122level0_row0\" class=\"row_heading level0 row0\" >Los Angeles</th>\n",
       "                        <td id=\"T_6c18c1a2_1bd6_11ec_bf6e_acde48001122row0_col0\" class=\"data row0 col0\" >59,895</td>\n",
       "            </tr>\n",
       "            <tr>\n",
       "                        <th id=\"T_6c18c1a2_1bd6_11ec_bf6e_acde48001122level0_row1\" class=\"row_heading level0 row1\" >Sacramento</th>\n",
       "                        <td id=\"T_6c18c1a2_1bd6_11ec_bf6e_acde48001122row1_col0\" class=\"data row1 col0\" >10,090</td>\n",
       "            </tr>\n",
       "            <tr>\n",
       "                        <th id=\"T_6c18c1a2_1bd6_11ec_bf6e_acde48001122level0_row2\" class=\"row_heading level0 row2\" >San Francisco</th>\n",
       "                        <td id=\"T_6c18c1a2_1bd6_11ec_bf6e_acde48001122row2_col0\" class=\"data row2 col0\" >30,015</td>\n",
       "            </tr>\n",
       "    </tbody></table>"
      ],
      "text/plain": [
       "<pandas.io.formats.style.Styler at 0x7fca7d16edc0>"
      ]
     },
     "execution_count": 8,
     "metadata": {},
     "output_type": "execute_result"
    }
   ],
   "source": [
    "# Number of customers per market \n",
    "\n",
    "print('Number of customers per market')\n",
    "customers.groupby('market')['id'].agg(['count']).style.format('{0:,.0f}')"
   ]
  },
  {
   "cell_type": "code",
   "execution_count": 9,
   "metadata": {},
   "outputs": [
    {
     "name": "stdout",
     "output_type": "stream",
     "text": [
      "Percentage of customers per make decision indicator\n"
     ]
    },
    {
     "data": {
      "text/html": [
       "<div>\n",
       "<style scoped>\n",
       "    .dataframe tbody tr th:only-of-type {\n",
       "        vertical-align: middle;\n",
       "    }\n",
       "\n",
       "    .dataframe tbody tr th {\n",
       "        vertical-align: top;\n",
       "    }\n",
       "\n",
       "    .dataframe thead th {\n",
       "        text-align: right;\n",
       "    }\n",
       "</style>\n",
       "<table border=\"1\" class=\"dataframe\">\n",
       "  <thead>\n",
       "    <tr style=\"text-align: right;\">\n",
       "      <th></th>\n",
       "      <th>count</th>\n",
       "    </tr>\n",
       "    <tr>\n",
       "      <th>make_decision</th>\n",
       "      <th></th>\n",
       "    </tr>\n",
       "  </thead>\n",
       "  <tbody>\n",
       "    <tr>\n",
       "      <th>0</th>\n",
       "      <td>38.516</td>\n",
       "    </tr>\n",
       "    <tr>\n",
       "      <th>1</th>\n",
       "      <td>61.484</td>\n",
       "    </tr>\n",
       "  </tbody>\n",
       "</table>\n",
       "</div>"
      ],
      "text/plain": [
       "                count\n",
       "make_decision        \n",
       "0              38.516\n",
       "1              61.484"
      ]
     },
     "execution_count": 9,
     "metadata": {},
     "output_type": "execute_result"
    }
   ],
   "source": [
    "# make_decision\n",
    "# 0 = no, the customer did not make a decision\n",
    "# 1 = yes, the customer did make a decision\n",
    "\n",
    "print('Percentage of customers per make decision indicator')\n",
    "\n",
    "total = customers['id'].count()\n",
    "customers.groupby(['make_decision'])['id'].agg(['count']) * 100 / total"
   ]
  },
  {
   "cell_type": "code",
   "execution_count": 10,
   "metadata": {},
   "outputs": [
    {
     "data": {
      "text/html": [
       "<div>\n",
       "<style scoped>\n",
       "    .dataframe tbody tr th:only-of-type {\n",
       "        vertical-align: middle;\n",
       "    }\n",
       "\n",
       "    .dataframe tbody tr th {\n",
       "        vertical-align: top;\n",
       "    }\n",
       "\n",
       "    .dataframe thead th {\n",
       "        text-align: right;\n",
       "    }\n",
       "</style>\n",
       "<table border=\"1\" class=\"dataframe\">\n",
       "  <thead>\n",
       "    <tr style=\"text-align: right;\">\n",
       "      <th></th>\n",
       "      <th>id</th>\n",
       "      <th>group</th>\n",
       "      <th>make_decision</th>\n",
       "      <th>market</th>\n",
       "      <th>score</th>\n",
       "      <th>date</th>\n",
       "      <th>new_date_column</th>\n",
       "      <th>group_name</th>\n",
       "      <th>decision</th>\n",
       "    </tr>\n",
       "  </thead>\n",
       "  <tbody>\n",
       "    <tr>\n",
       "      <th>0</th>\n",
       "      <td>1</td>\n",
       "      <td>0</td>\n",
       "      <td>1</td>\n",
       "      <td>Los Angeles</td>\n",
       "      <td>0.45</td>\n",
       "      <td>3/17/21</td>\n",
       "      <td>2021-03-17</td>\n",
       "      <td>Control</td>\n",
       "      <td>Yes</td>\n",
       "    </tr>\n",
       "    <tr>\n",
       "      <th>1</th>\n",
       "      <td>2</td>\n",
       "      <td>1</td>\n",
       "      <td>0</td>\n",
       "      <td>Los Angeles</td>\n",
       "      <td>0.55</td>\n",
       "      <td>3/10/21</td>\n",
       "      <td>2021-03-10</td>\n",
       "      <td>Test</td>\n",
       "      <td>No</td>\n",
       "    </tr>\n",
       "    <tr>\n",
       "      <th>2</th>\n",
       "      <td>3</td>\n",
       "      <td>1</td>\n",
       "      <td>1</td>\n",
       "      <td>Los Angeles</td>\n",
       "      <td>0.55</td>\n",
       "      <td>3/4/21</td>\n",
       "      <td>2021-03-04</td>\n",
       "      <td>Test</td>\n",
       "      <td>Yes</td>\n",
       "    </tr>\n",
       "    <tr>\n",
       "      <th>3</th>\n",
       "      <td>4</td>\n",
       "      <td>1</td>\n",
       "      <td>1</td>\n",
       "      <td>San Francisco</td>\n",
       "      <td>0.20</td>\n",
       "      <td>3/3/21</td>\n",
       "      <td>2021-03-03</td>\n",
       "      <td>Test</td>\n",
       "      <td>Yes</td>\n",
       "    </tr>\n",
       "    <tr>\n",
       "      <th>4</th>\n",
       "      <td>5</td>\n",
       "      <td>1</td>\n",
       "      <td>1</td>\n",
       "      <td>San Francisco</td>\n",
       "      <td>0.15</td>\n",
       "      <td>3/1/21</td>\n",
       "      <td>2021-03-01</td>\n",
       "      <td>Test</td>\n",
       "      <td>Yes</td>\n",
       "    </tr>\n",
       "  </tbody>\n",
       "</table>\n",
       "</div>"
      ],
      "text/plain": [
       "   id  group  make_decision         market  score     date new_date_column  \\\n",
       "0   1      0              1    Los Angeles   0.45  3/17/21      2021-03-17   \n",
       "1   2      1              0    Los Angeles   0.55  3/10/21      2021-03-10   \n",
       "2   3      1              1    Los Angeles   0.55   3/4/21      2021-03-04   \n",
       "3   4      1              1  San Francisco   0.20   3/3/21      2021-03-03   \n",
       "4   5      1              1  San Francisco   0.15   3/1/21      2021-03-01   \n",
       "\n",
       "  group_name decision  \n",
       "0    Control      Yes  \n",
       "1       Test       No  \n",
       "2       Test      Yes  \n",
       "3       Test      Yes  \n",
       "4       Test      Yes  "
      ]
     },
     "execution_count": 10,
     "metadata": {},
     "output_type": "execute_result"
    }
   ],
   "source": [
    "# For visualization purpose, I added some columns to label group and make_decision columns\n",
    "\n",
    "# Labeling\n",
    "dic_group = {0:'Control', 1:'Test'}\n",
    "customers['group_name'] = customers['group'].apply(lambda x: dic_group[x])\n",
    "\n",
    "dic_home_shop = {0:'No', 1:'Yes'}\n",
    "customers['decision'] = customers['make_decision'].apply(lambda x: dic_home_shop[x])\n",
    "\n",
    "customers.head()\n"
   ]
  },
  {
   "cell_type": "markdown",
   "metadata": {},
   "source": [
    "## Data Visualization"
   ]
  },
  {
   "cell_type": "code",
   "execution_count": 11,
   "metadata": {},
   "outputs": [
    {
     "name": "stdout",
     "output_type": "stream",
     "text": [
      "count    100000.000000\n",
      "mean          0.583243\n",
      "std           0.260430\n",
      "min           0.050000\n",
      "25%           0.400000\n",
      "50%           0.600000\n",
      "75%           0.800000\n",
      "max           0.950000\n",
      "Name: score, dtype: float64\n"
     ]
    },
    {
     "data": {
      "image/png": "[encoded data removed]",
      "text/plain": [
       "<Figure size 432x288 with 1 Axes>"
      ]
     },
     "metadata": {
      "needs_background": "light"
     },
     "output_type": "display_data"
    }
   ],
   "source": [
    "# Continuous Variable: Score\n",
    "\n",
    "print(customers['score'].describe())\n",
    "plt.boxplot(customers['score'])\n",
    "plt.title(\"Box plot of Score\")\n",
    "plt.show()\n"
   ]
  },
  {
   "cell_type": "code",
   "execution_count": 12,
   "metadata": {
    "scrolled": true
   },
   "outputs": [
    {
     "data": {
      "image/png": "[encoded data removed]",
      "text/plain": [
       "<Figure size 1296x360 with 3 Axes>"
      ]
     },
     "metadata": {
      "needs_background": "light"
     },
     "output_type": "display_data"
    },
    {
     "data": {
      "image/png": "[encoded data removed]",
      "text/plain": [
       "<Figure size 1296x360 with 1 Axes>"
      ]
     },
     "metadata": {
      "needs_background": "light"
     },
     "output_type": "display_data"
    }
   ],
   "source": [
    "# Categorical Variables: market, group_name and home_shop\n",
    "\n",
    "\n",
    "cols = customers.drop(['id','score','date','make_decision','group'], axis=1).columns\n",
    "\n",
    "i=0\n",
    "\n",
    "while i < len(cols):\n",
    "    \n",
    "    plt.figure(figsize=(18,5))\n",
    "    plt.subplot(1,3,1)\n",
    "    customers[cols[i]].value_counts().plot.bar()\n",
    "    title = 'Box plot of ' + str(cols[i])\n",
    "    plt.title(title)\n",
    "    \n",
    "    if i+1 < len(cols):\n",
    "        plt.subplot(1,3,2)\n",
    "        customers[cols[i+1]].value_counts().plot.bar()\n",
    "        title = 'Box plot of ' +  str(cols[i+1])\n",
    "        plt.title(title)\n",
    "\n",
    "    if i+2 < len(cols):\n",
    "        plt.subplot(1,3,3)\n",
    "        customers[cols[i+2]].value_counts().plot.bar()\n",
    "        title = 'Box plot of ' +  str(cols[i+2])\n",
    "        plt.title(title)\n",
    "\n",
    "    i+=3\n",
    "    \n",
    "plt.show()"
   ]
  },
  {
   "cell_type": "code",
   "execution_count": 13,
   "metadata": {},
   "outputs": [
    {
     "name": "stdout",
     "output_type": "stream",
     "text": [
      "Average Score per Market \n",
      "\n",
      "market\n",
      "Los Angeles      0.582909\n",
      "Sacramento       0.586313\n",
      "San Francisco    0.582879\n",
      "Name: score, dtype: float64\n"
     ]
    },
    {
     "data": {
      "text/plain": [
       "<seaborn.axisgrid.FacetGrid at 0x7fca81a1ef40>"
      ]
     },
     "execution_count": 13,
     "metadata": {},
     "output_type": "execute_result"
    },
    {
     "data": {
      "image/png": "[encoded data removed]",
      "text/plain": [
       "<Figure size 360x360 with 1 Axes>"
      ]
     },
     "metadata": {
      "needs_background": "light"
     },
     "output_type": "display_data"
    }
   ],
   "source": [
    "# Relationship between Score and Market\n",
    "\n",
    "print('Average Score per Market', '\\n')\n",
    "print(customers.groupby(['market'])['score'].mean())\n",
    "sns.catplot(x=\"market\", y=\"score\", kind=\"bar\",  data=customers)\n"
   ]
  },
  {
   "cell_type": "code",
   "execution_count": 14,
   "metadata": {},
   "outputs": [
    {
     "name": "stdout",
     "output_type": "stream",
     "text": [
      "Average Score per Group  \n",
      "\n",
      "group_name\n",
      "Control    0.583709\n",
      "Test       0.582778\n",
      "Name: score, dtype: float64\n"
     ]
    },
    {
     "data": {
      "text/plain": [
       "<seaborn.axisgrid.FacetGrid at 0x7fca82677790>"
      ]
     },
     "execution_count": 14,
     "metadata": {},
     "output_type": "execute_result"
    },
    {
     "data": {
      "image/png": "[encoded data removed]",
      "text/plain": [
       "<Figure size 360x360 with 1 Axes>"
      ]
     },
     "metadata": {
      "needs_background": "light"
     },
     "output_type": "display_data"
    }
   ],
   "source": [
    "# Relationship between Score and Group \n",
    "\n",
    "print('Average Score per Group ', '\\n')\n",
    "print(customers.groupby(['group_name'])['score'].mean())\n",
    "sns.catplot(x=\"group_name\", y=\"score\",  kind=\"box\", data=customers)"
   ]
  },
  {
   "cell_type": "code",
   "execution_count": 15,
   "metadata": {},
   "outputs": [
    {
     "name": "stdout",
     "output_type": "stream",
     "text": [
      "Average Score per Make Decision Indicator \n",
      "\n",
      "decision\n",
      "No     0.568030\n",
      "Yes    0.592774\n",
      "Name: score, dtype: float64\n"
     ]
    },
    {
     "data": {
      "text/plain": [
       "<seaborn.axisgrid.FacetGrid at 0x7fca819f6550>"
      ]
     },
     "execution_count": 15,
     "metadata": {},
     "output_type": "execute_result"
    },
    {
     "data": {
      "image/png": "[encoded data removed]",
      "text/plain": [
       "<Figure size 360x360 with 1 Axes>"
      ]
     },
     "metadata": {
      "needs_background": "light"
     },
     "output_type": "display_data"
    }
   ],
   "source": [
    "# Relationship between Score and Home Shop Decision\n",
    "\n",
    "print('Average Score per Make Decision Indicator', '\\n')\n",
    "print(customers.groupby(['decision'])['score'].mean())\n",
    "sns.catplot(x=\"decision\", y=\"score\", kind=\"bar\", data=customers)"
   ]
  },
  {
   "cell_type": "code",
   "execution_count": 16,
   "metadata": {},
   "outputs": [
    {
     "name": "stdout",
     "output_type": "stream",
     "text": [
      "Number of applicants per market per group\n",
      "                          count\n",
      "market        group_name       \n",
      "Los Angeles   Control     29895\n",
      "              Test        30000\n",
      "Sacramento    Control      5085\n",
      "              Test         5005\n",
      "San Francisco Control     15006\n",
      "              Test        15009\n"
     ]
    },
    {
     "data": {
      "text/plain": [
       "<seaborn.axisgrid.FacetGrid at 0x7fca826824c0>"
      ]
     },
     "execution_count": 16,
     "metadata": {},
     "output_type": "execute_result"
    },
    {
     "data": {
      "image/png": "[encoded data removed]",
      "text/plain": [
       "<Figure size 431.875x360 with 1 Axes>"
      ]
     },
     "metadata": {
      "needs_background": "light"
     },
     "output_type": "display_data"
    }
   ],
   "source": [
    "# Relationship between Market and Group Name\n",
    "\n",
    "print('Number of applicants per market per group')\n",
    "print(customers.groupby(['market','group_name'])['id'].agg(['count']))\n",
    "\n",
    "sns.catplot(x=\"market\",  hue=\"group_name\", kind=\"count\",  data=customers)"
   ]
  },
  {
   "cell_type": "code",
   "execution_count": 17,
   "metadata": {},
   "outputs": [
    {
     "name": "stdout",
     "output_type": "stream",
     "text": [
      "Number of customers per market per make decision\n",
      "                        count\n",
      "market        decision       \n",
      "Los Angeles   No        17304\n",
      "              Yes       42591\n",
      "Sacramento    No         6469\n",
      "              Yes        3621\n",
      "San Francisco No        14743\n",
      "              Yes       15272\n"
     ]
    },
    {
     "data": {
      "text/plain": [
       "<seaborn.axisgrid.FacetGrid at 0x7fca826f7310>"
      ]
     },
     "execution_count": 17,
     "metadata": {},
     "output_type": "execute_result"
    },
    {
     "data": {
      "image/png": "[encoded data removed]",
      "text/plain": [
       "<Figure size 412x360 with 1 Axes>"
      ]
     },
     "metadata": {
      "needs_background": "light"
     },
     "output_type": "display_data"
    }
   ],
   "source": [
    "# Relationship between Market and Make Decision Indicator\n",
    "\n",
    "print('Number of customers per market per make decision')\n",
    "print(customers.groupby(['market','decision'])['id'].agg(['count']))\n",
    "\n",
    "sns.catplot(x=\"market\",  hue=\"decision\", kind=\"count\",  data=customers)"
   ]
  },
  {
   "cell_type": "code",
   "execution_count": 18,
   "metadata": {},
   "outputs": [
    {
     "name": "stdout",
     "output_type": "stream",
     "text": [
      "Number of customers per market per make decision indicator\n",
      "                                   count\n",
      "market        group_name decision       \n",
      "Los Angeles   Control    No         9766\n",
      "                         Yes       20129\n",
      "              Test       No         7538\n",
      "                         Yes       22462\n",
      "Sacramento    Control    No         3272\n",
      "                         Yes        1813\n",
      "              Test       No         3197\n",
      "                         Yes        1808\n",
      "San Francisco Control    No         7450\n",
      "                         Yes        7556\n",
      "              Test       No         7293\n",
      "                         Yes        7716\n"
     ]
    },
    {
     "data": {
      "text/plain": [
       "<seaborn.axisgrid.FacetGrid at 0x7fca8263a640>"
      ]
     },
     "execution_count": 18,
     "metadata": {},
     "output_type": "execute_result"
    },
    {
     "data": {
      "image/png": "[encoded data removed]",
      "text/plain": [
       "<Figure size 431.875x360 with 1 Axes>"
      ]
     },
     "metadata": {
      "needs_background": "light"
     },
     "output_type": "display_data"
    }
   ],
   "source": [
    "# Relationship between Market, Group and Make Decision\n",
    "\n",
    "print('Number of customers per market per make decision indicator')\n",
    "print(customers.groupby(['market','group_name','decision'])['id'].agg(['count']))\n",
    "\n",
    "sns.catplot(x=\"market\",y=\"make_decision\", kind=\"bar\", hue=\"group_name\",  data=customers)"
   ]
  },
  {
   "cell_type": "markdown",
   "metadata": {},
   "source": [
    "## Experiment Analysis"
   ]
  },
  {
   "cell_type": "code",
   "execution_count": 19,
   "metadata": {},
   "outputs": [
    {
     "name": "stdout",
     "output_type": "stream",
     "text": [
      "Number of customers per market per group\n"
     ]
    },
    {
     "data": {
      "text/html": [
       "<style  type=\"text/css\" >\n",
       "</style><table id=\"T_70357a50_1bd6_11ec_bf6e_acde48001122\" ><thead>    <tr>        <th class=\"blank\" ></th>        <th class=\"blank level0\" ></th>        <th class=\"col_heading level0 col0\" >count</th>    </tr>    <tr>        <th class=\"index_name level0\" >market</th>        <th class=\"index_name level1\" >group_name</th>        <th class=\"blank\" ></th>    </tr></thead><tbody>\n",
       "                <tr>\n",
       "                        <th id=\"T_70357a50_1bd6_11ec_bf6e_acde48001122level0_row0\" class=\"row_heading level0 row0\" rowspan=2>Los Angeles</th>\n",
       "                        <th id=\"T_70357a50_1bd6_11ec_bf6e_acde48001122level1_row0\" class=\"row_heading level1 row0\" >Control</th>\n",
       "                        <td id=\"T_70357a50_1bd6_11ec_bf6e_acde48001122row0_col0\" class=\"data row0 col0\" >29,895</td>\n",
       "            </tr>\n",
       "            <tr>\n",
       "                                <th id=\"T_70357a50_1bd6_11ec_bf6e_acde48001122level1_row1\" class=\"row_heading level1 row1\" >Test</th>\n",
       "                        <td id=\"T_70357a50_1bd6_11ec_bf6e_acde48001122row1_col0\" class=\"data row1 col0\" >30,000</td>\n",
       "            </tr>\n",
       "            <tr>\n",
       "                        <th id=\"T_70357a50_1bd6_11ec_bf6e_acde48001122level0_row2\" class=\"row_heading level0 row2\" rowspan=2>Sacramento</th>\n",
       "                        <th id=\"T_70357a50_1bd6_11ec_bf6e_acde48001122level1_row2\" class=\"row_heading level1 row2\" >Control</th>\n",
       "                        <td id=\"T_70357a50_1bd6_11ec_bf6e_acde48001122row2_col0\" class=\"data row2 col0\" >5,085</td>\n",
       "            </tr>\n",
       "            <tr>\n",
       "                                <th id=\"T_70357a50_1bd6_11ec_bf6e_acde48001122level1_row3\" class=\"row_heading level1 row3\" >Test</th>\n",
       "                        <td id=\"T_70357a50_1bd6_11ec_bf6e_acde48001122row3_col0\" class=\"data row3 col0\" >5,005</td>\n",
       "            </tr>\n",
       "            <tr>\n",
       "                        <th id=\"T_70357a50_1bd6_11ec_bf6e_acde48001122level0_row4\" class=\"row_heading level0 row4\" rowspan=2>San Francisco</th>\n",
       "                        <th id=\"T_70357a50_1bd6_11ec_bf6e_acde48001122level1_row4\" class=\"row_heading level1 row4\" >Control</th>\n",
       "                        <td id=\"T_70357a50_1bd6_11ec_bf6e_acde48001122row4_col0\" class=\"data row4 col0\" >15,006</td>\n",
       "            </tr>\n",
       "            <tr>\n",
       "                                <th id=\"T_70357a50_1bd6_11ec_bf6e_acde48001122level1_row5\" class=\"row_heading level1 row5\" >Test</th>\n",
       "                        <td id=\"T_70357a50_1bd6_11ec_bf6e_acde48001122row5_col0\" class=\"data row5 col0\" >15,009</td>\n",
       "            </tr>\n",
       "    </tbody></table>"
      ],
      "text/plain": [
       "<pandas.io.formats.style.Styler at 0x7fca81c5d130>"
      ]
     },
     "execution_count": 19,
     "metadata": {},
     "output_type": "execute_result"
    }
   ],
   "source": [
    "# Analyzig the data of the experiment\n",
    "\n",
    "print('Number of customers per market per group')\n",
    "customers.groupby(['market','group_name'])['id'].agg(['count']).style.format('{0:,.0f}')"
   ]
  },
  {
   "cell_type": "code",
   "execution_count": 20,
   "metadata": {},
   "outputs": [
    {
     "name": "stdout",
     "output_type": "stream",
     "text": [
      "Number of customers per market per make decision indicator\n"
     ]
    },
    {
     "data": {
      "text/html": [
       "<style  type=\"text/css\" >\n",
       "</style><table id=\"T_703a28c0_1bd6_11ec_bf6e_acde48001122\" ><thead>    <tr>        <th class=\"blank\" ></th>        <th class=\"blank level0\" ></th>        <th class=\"col_heading level0 col0\" >count</th>    </tr>    <tr>        <th class=\"index_name level0\" >market</th>        <th class=\"index_name level1\" >decision</th>        <th class=\"blank\" ></th>    </tr></thead><tbody>\n",
       "                <tr>\n",
       "                        <th id=\"T_703a28c0_1bd6_11ec_bf6e_acde48001122level0_row0\" class=\"row_heading level0 row0\" rowspan=2>Los Angeles</th>\n",
       "                        <th id=\"T_703a28c0_1bd6_11ec_bf6e_acde48001122level1_row0\" class=\"row_heading level1 row0\" >No</th>\n",
       "                        <td id=\"T_703a28c0_1bd6_11ec_bf6e_acde48001122row0_col0\" class=\"data row0 col0\" >17,304</td>\n",
       "            </tr>\n",
       "            <tr>\n",
       "                                <th id=\"T_703a28c0_1bd6_11ec_bf6e_acde48001122level1_row1\" class=\"row_heading level1 row1\" >Yes</th>\n",
       "                        <td id=\"T_703a28c0_1bd6_11ec_bf6e_acde48001122row1_col0\" class=\"data row1 col0\" >42,591</td>\n",
       "            </tr>\n",
       "            <tr>\n",
       "                        <th id=\"T_703a28c0_1bd6_11ec_bf6e_acde48001122level0_row2\" class=\"row_heading level0 row2\" rowspan=2>Sacramento</th>\n",
       "                        <th id=\"T_703a28c0_1bd6_11ec_bf6e_acde48001122level1_row2\" class=\"row_heading level1 row2\" >No</th>\n",
       "                        <td id=\"T_703a28c0_1bd6_11ec_bf6e_acde48001122row2_col0\" class=\"data row2 col0\" >6,469</td>\n",
       "            </tr>\n",
       "            <tr>\n",
       "                                <th id=\"T_703a28c0_1bd6_11ec_bf6e_acde48001122level1_row3\" class=\"row_heading level1 row3\" >Yes</th>\n",
       "                        <td id=\"T_703a28c0_1bd6_11ec_bf6e_acde48001122row3_col0\" class=\"data row3 col0\" >3,621</td>\n",
       "            </tr>\n",
       "            <tr>\n",
       "                        <th id=\"T_703a28c0_1bd6_11ec_bf6e_acde48001122level0_row4\" class=\"row_heading level0 row4\" rowspan=2>San Francisco</th>\n",
       "                        <th id=\"T_703a28c0_1bd6_11ec_bf6e_acde48001122level1_row4\" class=\"row_heading level1 row4\" >No</th>\n",
       "                        <td id=\"T_703a28c0_1bd6_11ec_bf6e_acde48001122row4_col0\" class=\"data row4 col0\" >14,743</td>\n",
       "            </tr>\n",
       "            <tr>\n",
       "                                <th id=\"T_703a28c0_1bd6_11ec_bf6e_acde48001122level1_row5\" class=\"row_heading level1 row5\" >Yes</th>\n",
       "                        <td id=\"T_703a28c0_1bd6_11ec_bf6e_acde48001122row5_col0\" class=\"data row5 col0\" >15,272</td>\n",
       "            </tr>\n",
       "    </tbody></table>"
      ],
      "text/plain": [
       "<pandas.io.formats.style.Styler at 0x7fca826b5670>"
      ]
     },
     "execution_count": 20,
     "metadata": {},
     "output_type": "execute_result"
    }
   ],
   "source": [
    "\n",
    "print('Number of customers per market per make decision indicator')\n",
    "customers.groupby(['market','decision'])['id'].agg(['count']).style.format('{0:,.0f}')"
   ]
  },
  {
   "cell_type": "markdown",
   "metadata": {},
   "source": [
    "## Analysis Result"
   ]
  },
  {
   "cell_type": "code",
   "execution_count": 21,
   "metadata": {},
   "outputs": [
    {
     "name": "stdout",
     "output_type": "stream",
     "text": [
      "Number of customers per group who did or did not make a decision\n"
     ]
    },
    {
     "data": {
      "text/html": [
       "<div>\n",
       "<style scoped>\n",
       "    .dataframe tbody tr th:only-of-type {\n",
       "        vertical-align: middle;\n",
       "    }\n",
       "\n",
       "    .dataframe tbody tr th {\n",
       "        vertical-align: top;\n",
       "    }\n",
       "\n",
       "    .dataframe thead th {\n",
       "        text-align: right;\n",
       "    }\n",
       "</style>\n",
       "<table border=\"1\" class=\"dataframe\">\n",
       "  <thead>\n",
       "    <tr style=\"text-align: right;\">\n",
       "      <th>decision</th>\n",
       "      <th>No</th>\n",
       "      <th>Yes</th>\n",
       "    </tr>\n",
       "    <tr>\n",
       "      <th>group_name</th>\n",
       "      <th></th>\n",
       "      <th></th>\n",
       "    </tr>\n",
       "  </thead>\n",
       "  <tbody>\n",
       "    <tr>\n",
       "      <th>Control</th>\n",
       "      <td>20488</td>\n",
       "      <td>29498</td>\n",
       "    </tr>\n",
       "    <tr>\n",
       "      <th>Test</th>\n",
       "      <td>18028</td>\n",
       "      <td>31986</td>\n",
       "    </tr>\n",
       "  </tbody>\n",
       "</table>\n",
       "</div>"
      ],
      "text/plain": [
       "decision       No    Yes\n",
       "group_name              \n",
       "Control     20488  29498\n",
       "Test        18028  31986"
      ]
     },
     "execution_count": 21,
     "metadata": {},
     "output_type": "execute_result"
    }
   ],
   "source": [
    "# Crosstab with Number of customers per group who did or did not make decision\n",
    "\n",
    "count_table_g = pd.crosstab(customers['group_name'], customers['decision'])\n",
    "print('Number of customers per group who did or did not make a decision')\n",
    "count_table_g"
   ]
  },
  {
   "cell_type": "code",
   "execution_count": 22,
   "metadata": {},
   "outputs": [
    {
     "name": "stdout",
     "output_type": "stream",
     "text": [
      "Make decision indicator rate per market\n"
     ]
    },
    {
     "data": {
      "text/html": [
       "<div>\n",
       "<style scoped>\n",
       "    .dataframe tbody tr th:only-of-type {\n",
       "        vertical-align: middle;\n",
       "    }\n",
       "\n",
       "    .dataframe tbody tr th {\n",
       "        vertical-align: top;\n",
       "    }\n",
       "\n",
       "    .dataframe thead th {\n",
       "        text-align: right;\n",
       "    }\n",
       "</style>\n",
       "<table border=\"1\" class=\"dataframe\">\n",
       "  <thead>\n",
       "    <tr style=\"text-align: right;\">\n",
       "      <th>decision</th>\n",
       "      <th>No</th>\n",
       "      <th>Yes</th>\n",
       "    </tr>\n",
       "    <tr>\n",
       "      <th>market</th>\n",
       "      <th></th>\n",
       "      <th></th>\n",
       "    </tr>\n",
       "  </thead>\n",
       "  <tbody>\n",
       "    <tr>\n",
       "      <th>Los Angeles</th>\n",
       "      <td>0.29</td>\n",
       "      <td>0.71</td>\n",
       "    </tr>\n",
       "    <tr>\n",
       "      <th>Sacramento</th>\n",
       "      <td>0.64</td>\n",
       "      <td>0.36</td>\n",
       "    </tr>\n",
       "    <tr>\n",
       "      <th>San Francisco</th>\n",
       "      <td>0.49</td>\n",
       "      <td>0.51</td>\n",
       "    </tr>\n",
       "  </tbody>\n",
       "</table>\n",
       "</div>"
      ],
      "text/plain": [
       "decision         No   Yes\n",
       "market                   \n",
       "Los Angeles    0.29  0.71\n",
       "Sacramento     0.64  0.36\n",
       "San Francisco  0.49  0.51"
      ]
     },
     "execution_count": 22,
     "metadata": {},
     "output_type": "execute_result"
    }
   ],
   "source": [
    "# Crosstab with make decision rate per market\n",
    "\n",
    "count_table_g = pd.crosstab(customers['market'], customers['decision']).apply(lambda r: round(r/r.sum(),2), axis=1)\n",
    "print('Make decision indicator rate per market')\n",
    "count_table_g"
   ]
  },
  {
   "cell_type": "code",
   "execution_count": 23,
   "metadata": {},
   "outputs": [
    {
     "name": "stdout",
     "output_type": "stream",
     "text": [
      "Make decision rate per group\n"
     ]
    },
    {
     "data": {
      "text/html": [
       "<div>\n",
       "<style scoped>\n",
       "    .dataframe tbody tr th:only-of-type {\n",
       "        vertical-align: middle;\n",
       "    }\n",
       "\n",
       "    .dataframe tbody tr th {\n",
       "        vertical-align: top;\n",
       "    }\n",
       "\n",
       "    .dataframe thead th {\n",
       "        text-align: right;\n",
       "    }\n",
       "</style>\n",
       "<table border=\"1\" class=\"dataframe\">\n",
       "  <thead>\n",
       "    <tr style=\"text-align: right;\">\n",
       "      <th>decision</th>\n",
       "      <th>No</th>\n",
       "      <th>Yes</th>\n",
       "    </tr>\n",
       "    <tr>\n",
       "      <th>group_name</th>\n",
       "      <th></th>\n",
       "      <th></th>\n",
       "    </tr>\n",
       "  </thead>\n",
       "  <tbody>\n",
       "    <tr>\n",
       "      <th>Control</th>\n",
       "      <td>0.41</td>\n",
       "      <td>0.59</td>\n",
       "    </tr>\n",
       "    <tr>\n",
       "      <th>Test</th>\n",
       "      <td>0.36</td>\n",
       "      <td>0.64</td>\n",
       "    </tr>\n",
       "  </tbody>\n",
       "</table>\n",
       "</div>"
      ],
      "text/plain": [
       "decision      No   Yes\n",
       "group_name            \n",
       "Control     0.41  0.59\n",
       "Test        0.36  0.64"
      ]
     },
     "execution_count": 23,
     "metadata": {},
     "output_type": "execute_result"
    }
   ],
   "source": [
    "#Crosstab of make decision rate per group\n",
    "\n",
    "count_table_g = pd.crosstab(customers['group_name'], customers['decision']).apply(lambda r: round(r/r.sum(),2), axis=1)\n",
    "print('Make decision rate per group')\n",
    "count_table_g"
   ]
  },
  {
   "cell_type": "markdown",
   "metadata": {},
   "source": [
    "**Between control and test groups, there is an increment of 4.94% on the number of applicants who did shop for home**"
   ]
  },
  {
   "cell_type": "code",
   "execution_count": 24,
   "metadata": {},
   "outputs": [
    {
     "name": "stdout",
     "output_type": "stream",
     "text": [
      "Make decision rate per group and market \n"
     ]
    },
    {
     "data": {
      "text/html": [
       "<div>\n",
       "<style scoped>\n",
       "    .dataframe tbody tr th:only-of-type {\n",
       "        vertical-align: middle;\n",
       "    }\n",
       "\n",
       "    .dataframe tbody tr th {\n",
       "        vertical-align: top;\n",
       "    }\n",
       "\n",
       "    .dataframe thead th {\n",
       "        text-align: right;\n",
       "    }\n",
       "</style>\n",
       "<table border=\"1\" class=\"dataframe\">\n",
       "  <thead>\n",
       "    <tr style=\"text-align: right;\">\n",
       "      <th></th>\n",
       "      <th>decision</th>\n",
       "      <th>No</th>\n",
       "      <th>Yes</th>\n",
       "    </tr>\n",
       "    <tr>\n",
       "      <th>group_name</th>\n",
       "      <th>market</th>\n",
       "      <th></th>\n",
       "      <th></th>\n",
       "    </tr>\n",
       "  </thead>\n",
       "  <tbody>\n",
       "    <tr>\n",
       "      <th rowspan=\"3\" valign=\"top\">Control</th>\n",
       "      <th>Los Angeles</th>\n",
       "      <td>0.3267</td>\n",
       "      <td>0.6733</td>\n",
       "    </tr>\n",
       "    <tr>\n",
       "      <th>Sacramento</th>\n",
       "      <td>0.6435</td>\n",
       "      <td>0.3565</td>\n",
       "    </tr>\n",
       "    <tr>\n",
       "      <th>San Francisco</th>\n",
       "      <td>0.4965</td>\n",
       "      <td>0.5035</td>\n",
       "    </tr>\n",
       "    <tr>\n",
       "      <th rowspan=\"3\" valign=\"top\">Test</th>\n",
       "      <th>Los Angeles</th>\n",
       "      <td>0.2513</td>\n",
       "      <td>0.7487</td>\n",
       "    </tr>\n",
       "    <tr>\n",
       "      <th>Sacramento</th>\n",
       "      <td>0.6388</td>\n",
       "      <td>0.3612</td>\n",
       "    </tr>\n",
       "    <tr>\n",
       "      <th>San Francisco</th>\n",
       "      <td>0.4859</td>\n",
       "      <td>0.5141</td>\n",
       "    </tr>\n",
       "  </tbody>\n",
       "</table>\n",
       "</div>"
      ],
      "text/plain": [
       "decision                      No     Yes\n",
       "group_name market                       \n",
       "Control    Los Angeles    0.3267  0.6733\n",
       "           Sacramento     0.6435  0.3565\n",
       "           San Francisco  0.4965  0.5035\n",
       "Test       Los Angeles    0.2513  0.7487\n",
       "           Sacramento     0.6388  0.3612\n",
       "           San Francisco  0.4859  0.5141"
      ]
     },
     "execution_count": 24,
     "metadata": {},
     "output_type": "execute_result"
    }
   ],
   "source": [
    "# Crosstab of home shopping rate per group, per market\n",
    "\n",
    "count_table_g = pd.crosstab([customers['group_name'],customers['market']], \n",
    "                            customers['decision']).apply(lambda r: round(r/r.sum(),4), axis=1)\n",
    "\n",
    "print('Make decision rate per group and market ')\n",
    "count_table_g"
   ]
  },
  {
   "cell_type": "markdown",
   "metadata": {},
   "source": [
    "**Test groups for all markets present an increment on the number of customers who did make a decision for all markets**"
   ]
  },
  {
   "cell_type": "markdown",
   "metadata": {},
   "source": [
    "### Test of Means Analysis - Control and Test Groups"
   ]
  },
  {
   "cell_type": "code",
   "execution_count": 25,
   "metadata": {},
   "outputs": [
    {
     "name": "stdout",
     "output_type": "stream",
     "text": [
      "Ttest_indResult(statistic=-16.07642208155314, pvalue=4.416208227786792e-58)\n"
     ]
    }
   ],
   "source": [
    "# Overall Calculation\n",
    "\n",
    "customer_not_decide = customers['make_decision'][customers['group']==0]\n",
    "customer_decide = customers['make_decision'][customers['group']==1]\n",
    "\n",
    "print(stats.ttest_ind(customer_not_decide, customer_decide))\n"
   ]
  },
  {
   "cell_type": "markdown",
   "metadata": {},
   "source": [
    "***The result of the test of means analysis gives p-value=4.416208227786792e-58 \n",
    "that indicates there is a statistically significance difference between group means, this is how likely it is that result would have occurred by random chance ***"
   ]
  },
  {
   "cell_type": "code",
   "execution_count": 26,
   "metadata": {},
   "outputs": [
    {
     "name": "stdout",
     "output_type": "stream",
     "text": [
      "Market: Los angeles\n",
      "Ttest_indResult(statistic=-20.429268673318195, pvalue=1.90094987985161e-92) \n",
      "\n",
      "Market: San francisco\n",
      "Ttest_indResult(statistic=-1.829763081890744, pvalue=0.0672952873759384) \n",
      "\n",
      "Market: Sacramento\n",
      "Ttest_indResult(statistic=-0.49205430459965027, pvalue=0.6226916615211875) \n",
      "\n"
     ]
    }
   ],
   "source": [
    "mkts = list(customers['market'].unique())\n",
    "\n",
    "for mkt in mkts:\n",
    "    \n",
    "    cust_not_shop = customers['make_decision'][(customers['group']==0) & (customers['market']==mkt)]\n",
    "    cust_shop = customers['make_decision'][(customers['group']==1) & (customers['market']==mkt)]\n",
    "    \n",
    "    print('Market: {}'.format(mkt.capitalize()))\n",
    "    print(stats.ttest_ind(cust_not_shop, cust_shop),'\\n')"
   ]
  },
  {
   "cell_type": "markdown",
   "metadata": {},
   "source": [
    "***The result of the tests of means analysis per market gave different p-values. Just for Los Angeles\n",
    "the result indicates there is a statistically significance difference between groups means. For San Francisco and Sacramento, my recommendation is to increment the number of customers in the experiment***"
   ]
  },
  {
   "cell_type": "markdown",
   "metadata": {},
   "source": [
    "## Conclusions"
   ]
  },
  {
   "cell_type": "markdown",
   "metadata": {},
   "source": [
    "1. The result of the test of means analysis gives a p-value < 0.05, that indicates there is a statistically significance difference between group means\n",
    "\n",
    "2. The p-value provides strong evidence that the increment on making-decision rate did not happen by chance\n",
    "\n",
    "3. The overall result shows that there could be an increment on the make decision rate so, my recommendation is to rollout the email strategy in the rest of the markets"
   ]
  },
  {
   "cell_type": "markdown",
   "metadata": {},
   "source": [
    "-----------------------------------\n",
    "By: Wendy Navarrete\n",
    "\n",
    "Date: 08/27/2021"
   ]
  },
  {
   "cell_type": "code",
   "execution_count": null,
   "metadata": {},
   "outputs": [],
   "source": []
  }
 ],
 "metadata": {
  "kernelspec": {
   "display_name": "Python 3",
   "language": "python",
   "name": "python3"
  },
  "language_info": {
   "codemirror_mode": {
    "name": "ipython",
    "version": 3
   },
   "file_extension": ".py",
   "mimetype": "text/x-python",
   "name": "python",
   "nbconvert_exporter": "python",
   "pygments_lexer": "ipython3",
   "version": "3.8.5"
  }
 },
 "nbformat": 4,
 "nbformat_minor": 2
}
